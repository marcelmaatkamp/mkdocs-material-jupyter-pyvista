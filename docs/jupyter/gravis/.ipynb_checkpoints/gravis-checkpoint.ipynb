{
 "cells": [
  {
   "cell_type": "code",
   "execution_count": null,
   "id": "79ed3e80-948d-4f91-bd30-05b9981611a4",
   "metadata": {},
   "outputs": [],
   "source": [
    "import gravis as gv\n",
    "import networkx as nx\n",
    "\n",
    "g = nx.cycle_graph(10)\n",
    "g.graph['node_color'] = 'blue'\n",
    "g.nodes[1]['title'] = 'Number 1'\n",
    "g.nodes[1]['group'] = 1\n",
    "g.nodes[3]['title'] = 'I belong to a different group!'\n",
    "g.nodes[3]['group'] = 10\n",
    "g.nodes[3]['color'] = 'orange'\n",
    "g.add_node(20, size=20, title='couple', group=2, color='red')\n",
    "g.add_node(21, size=15, title='couple', group=2, color='red')\n",
    "g.add_edge(20, 21, weight=5)\n",
    "g.add_node(25, size=25, label='lonely', title='lonely node', group=3, color='green')\n",
    "\n",
    "gv.d3(g)"
   ]
  }
 ],
 "metadata": {
  "kernelspec": {
   "display_name": "Python 3 (ipykernel)",
   "language": "python",
   "name": "python3"
  },
  "language_info": {
   "codemirror_mode": {
    "name": "ipython",
    "version": 3
   },
   "file_extension": ".py",
   "mimetype": "text/x-python",
   "name": "python",
   "nbconvert_exporter": "python",
   "pygments_lexer": "ipython3",
   "version": "3.10.9"
  }
 },
 "nbformat": 4,
 "nbformat_minor": 5
}
