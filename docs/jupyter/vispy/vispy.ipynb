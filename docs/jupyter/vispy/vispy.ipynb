{
 "cells": [
  {
   "cell_type": "markdown",
   "id": "7b7f5a28-6441-4fe1-8020-30aa72a746df",
   "metadata": {
    "tags": []
   },
   "source": [
    "import vispy\n",
    "vispy.test()"
   ]
  },
  {
   "cell_type": "markdown",
   "id": "351e2b3c-617a-474d-9477-da0b488a9add",
   "metadata": {
    "tags": []
   },
   "source": [
    "import vispy.app\n",
    "# ValueError: backend_name must be one of \n",
    "#  ['pyqt4', 'pyqt5', 'pyqt6', 'pyside', 'pyside2', 'pyside6', 'pyglet', 'glfw', 'sdl2', 'wx', 'egl', 'osmesa', 'tkinter', 'jupyter_rfb', '_test'] or None, not 'ipynb_webgl'\n",
    "vispy.app.use_app('ipynb_webgl')\n",
    "from vispy import plot as vp\n",
    "fig = vp.Fig(show=False)\n",
    "fig1 = fig[0, 0]\n",
    "fig1.plot(range(10000),marker_size=0)\n",
    "fig.show(run=True)"
   ]
  },
  {
   "cell_type": "markdown",
   "id": "c42c6f9c-4b6d-4384-b860-7157a3b55297",
   "metadata": {
    "tags": []
   },
   "source": [
    "import sys\n",
    "\n",
    "from vispy import app, gloo\n",
    "from vispy.visuals import CubeVisual, transforms\n",
    "\n",
    "class GLCanvas(scene.SceneCanvas):\n",
    "    def __init__(self):\n",
    "        scene.SceneCanvas.__init__(self, keys='interactive',\n",
    "                            size=(400, 400))\n",
    "        self.unfreeze()\n",
    "        #app.Canvas.__init__(self, 'Cube', keys='interactive',\n",
    "        #                    size=(400, 400))\n",
    "\n",
    "        self.cube = CubeVisual((1.0, 0.5, 0.25), color='red',\n",
    "                               edge_color=\"k\")\n",
    "        self.theta = 0\n",
    "        self.phi = 0\n",
    "\n",
    "        # Create a TransformSystem that will tell the visual how to draw\n",
    "        self.cube_transform = transforms.MatrixTransform()\n",
    "        self.cube.transform = self.cube_transform\n",
    "\n",
    "        #self._timer = app.Timer('auto', connect=self.on_timer, start=True)\n",
    "\n",
    "        self.show()\n",
    "\n",
    "    def on_resize(self, event):\n",
    "        # Set canvas viewport and reconfigure visual transforms to match.\n",
    "        vp = (0, 0, self.physical_size[0], self.physical_size[1])\n",
    "        self.context.set_viewport(*vp)\n",
    "        self.cube.transforms.configure(canvas=self, viewport=vp)\n",
    "\n",
    "    def on_draw(self, event):\n",
    "        gloo.set_viewport(0, 0, *self.physical_size)\n",
    "        gloo.clear('white', depth=True)\n",
    "\n",
    "        self.cube.draw()\n",
    "    \n",
    "    def on_timer(self, event):\n",
    "        self.theta += .5\n",
    "        self.phi += .5\n",
    "        self.cube_transform.reset()\n",
    "        self.cube_transform.rotate(self.theta, (0, 0, 1))\n",
    "        self.cube_transform.rotate(self.phi, (0, 1, 0))\n",
    "        self.cube_transform.scale((100, 100, 0.001))\n",
    "        self.cube_transform.translate((200, 200))\n",
    "        self.update()\n",
    "\n",
    "win = GLCanvas()\n",
    "\n",
    "def update(ev):\n",
    "    win.theta += .5\n",
    "    win.phi += .5\n",
    "    win.cube_transform.reset()\n",
    "    win.cube_transform.rotate(win.theta, (0, 0, 1))\n",
    "    win.cube_transform.rotate(win.phi, (0, 1, 0))\n",
    "    win.cube_transform.scale((100, 100, 0.001))\n",
    "    win.cube_transform.translate((200, 200))\n",
    "    #win.cube.update()\n",
    "\n",
    "timer = app.Timer()\n",
    "timer.connect(win.on_timer)\n",
    "timer.start(0.025)\n",
    "app.run()"
   ]
  },
  {
   "cell_type": "markdown",
   "id": "57a1b3c6-5a56-4967-b4fb-4ef0db4483b3",
   "metadata": {},
   "source": [
    "import numpy as np\n",
    "import vispy\n",
    "import vispy.gloo as gloo\n",
    "from vispy import app\n",
    "from vispy.util.transforms import perspective, translate, rotate\n",
    "\n",
    "# load the vispy bindings for the IPython notebook which enables webGL\n",
    "%load_ext vispy.ipython"
   ]
  },
  {
   "cell_type": "markdown",
   "id": "a748d3a9-58a2-4aca-8f5d-292fa3e421f8",
   "metadata": {
    "tags": []
   },
   "source": [
    "\n",
    "# Add into IPython 3.x eventloops.py\n",
    "#\n",
    "\n",
    "@register_integration('vispy')\n",
    "def loop_vispy(kernel):\n",
    "    \"\"\"Start a kernel using a VisPy backend.\"\"\"\n",
    "\n",
    "    import vispy.app\n",
    "    vispy.app.use_app(backend_name='glfw')\n",
    "\n",
    "    t = vispy.app.Timer(interval=kernel._poll_interval, start=True)\n",
    "    t.connect(lambda evt: kernel.do_one_iteration())\n",
    "    \n",
    "    vispy.app.run()"
   ]
  },
  {
   "cell_type": "code",
   "execution_count": 5,
   "id": "ade77846-a8bf-4381-9da5-cf1cd307bede",
   "metadata": {},
   "outputs": [
    {
     "ename": "NameError",
     "evalue": "name 'register_integration' is not defined",
     "output_type": "error",
     "traceback": [
      "\u001b[0;31m---------------------------------------------------------------------------\u001b[0m",
      "\u001b[0;31mNameError\u001b[0m                                 Traceback (most recent call last)",
      "Cell \u001b[0;32mIn[5], line 1\u001b[0m\n\u001b[0;32m----> 1\u001b[0m \u001b[38;5;129m@register_integration\u001b[39m(\u001b[38;5;124m'\u001b[39m\u001b[38;5;124mvispy\u001b[39m\u001b[38;5;124m'\u001b[39m)\n\u001b[1;32m      2\u001b[0m \u001b[38;5;28;01mdef\u001b[39;00m \u001b[38;5;21mloop_vispy\u001b[39m(kernel):\n\u001b[1;32m      3\u001b[0m \u001b[38;5;250m    \u001b[39m\u001b[38;5;124;03m\"\"\"Start a kernel using a VisPy backend.\"\"\"\u001b[39;00m\n\u001b[1;32m      5\u001b[0m     \u001b[38;5;28;01mimport\u001b[39;00m \u001b[38;5;21;01mvispy\u001b[39;00m\u001b[38;5;21;01m.\u001b[39;00m\u001b[38;5;21;01mapp\u001b[39;00m\n",
      "\u001b[0;31mNameError\u001b[0m: name 'register_integration' is not defined"
     ]
    }
   ],
   "source": [
    "@register_integration('vispy')\n",
    "def loop_vispy(kernel):\n",
    "    \"\"\"Start a kernel using a VisPy backend.\"\"\"\n",
    "\n",
    "    import vispy.app\n",
    "    vispy.app.use_app(backend_name='glfw')\n",
    "\n",
    "    t = vispy.app.Timer(interval=kernel._poll_interval, start=True)\n",
    "    t.connect(lambda evt: kernel.do_one_iteration())\n",
    "    \n",
    "    vispy.app.run()"
   ]
  },
  {
   "cell_type": "code",
   "execution_count": null,
   "id": "4b2e74a2-6258-4cfb-8ff3-457dad85ad88",
   "metadata": {},
   "outputs": [],
   "source": []
  }
 ],
 "metadata": {
  "kernelspec": {
   "display_name": "Python 3 (ipykernel)",
   "language": "python",
   "name": "python3"
  },
  "language_info": {
   "codemirror_mode": {
    "name": "ipython",
    "version": 3
   },
   "file_extension": ".py",
   "mimetype": "text/x-python",
   "name": "python",
   "nbconvert_exporter": "python",
   "pygments_lexer": "ipython3",
   "version": "3.10.9"
  }
 },
 "nbformat": 4,
 "nbformat_minor": 5
}
