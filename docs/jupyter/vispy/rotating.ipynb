{
 "cells": [
  {
   "cell_type": "code",
   "execution_count": 1,
   "id": "cd460967-1983-43a0-8339-979300a7969b",
   "metadata": {
    "tags": []
   },
   "outputs": [
    {
     "data": {
      "application/vnd.jupyter.widget-view+json": {
       "model_id": "47b772ee51f44080bb8dc2f1e88257f2",
       "version_major": 2,
       "version_minor": 0
      },
      "text/plain": [
       "RFBOutputContext()"
      ]
     },
     "metadata": {},
     "output_type": "display_data"
    },
    {
     "name": "stderr",
     "output_type": "stream",
     "text": [
      "/opt/conda/lib/python3.10/site-packages/glfw/__init__.py:912: GLFWError: (65544) b'X11: The DISPLAY environment variable is missing'\n",
      "  warnings.warn(message, GLFWError)\n",
      "/opt/conda/lib/python3.10/site-packages/glfw/__init__.py:912: GLFWError: (65537) b'The GLFW library is not initialized'\n",
      "  warnings.warn(message, GLFWError)\n",
      "/tmp/ipykernel_119/489566911.py:15: DeprecationWarning: The CubeVisual is deprecated in favor of BoxVisual\n",
      "  self.cube = CubeVisual((1.0, 0.5, 0.25), color='red', edge_color=\"k\")\n"
     ]
    }
   ],
   "source": [
    "import vispy\n",
    "vispy.use(\"jupyter_rfb\")\n",
    "\n",
    "import sys\n",
    "\n",
    "from vispy import app, gloo\n",
    "from vispy.visuals import CubeVisual, transforms\n",
    "\n",
    "\n",
    "class Canvas(app.Canvas):\n",
    "    def __init__(self):\n",
    "        app.Canvas.__init__(self, 'Cube', keys='interactive',\n",
    "                            size=(400, 400))\n",
    "\n",
    "        self.cube = CubeVisual((1.0, 0.5, 0.25), color='red', edge_color=\"k\")\n",
    "        self.theta = 0\n",
    "        self.phi = 0\n",
    "\n",
    "        # Create a TransformSystem that will tell the visual how to draw\n",
    "        self.cube_transform = transforms.MatrixTransform()\n",
    "        self.cube.transform = self.cube_transform\n",
    "\n",
    "        self.timer = app.Timer('auto', connect=self.on_timer, start=True)\n",
    "\n",
    "    def on_resize(self, event):\n",
    "        # Set canvas viewport and reconfigure visual transforms to match.\n",
    "        vp = (0, 0, self.physical_size[0], self.physical_size[1])\n",
    "        self.context.set_viewport(*vp)\n",
    "        self.cube.transforms.configure(canvas=self, viewport=vp)\n",
    "\n",
    "    def on_draw(self, event):\n",
    "        gloo.set_viewport(0, 0, *self.physical_size)\n",
    "        gloo.clear('white', depth=True)\n",
    "\n",
    "        self.cube.draw()\n",
    "\n",
    "    def on_timer(self, event):\n",
    "        self.theta += .5\n",
    "        self.phi += .5\n",
    "        self.cube_transform.reset()\n",
    "        self.cube_transform.rotate(self.theta, (0, 0, 1))\n",
    "        self.cube_transform.rotate(self.phi, (0, 1, 0))\n",
    "        self.cube_transform.scale((100, 100, 0.001))\n",
    "        self.cube_transform.translate((200, 200))\n",
    "        self.update()\n",
    "\n",
    "win = Canvas()\n",
    "win.show()\n",
    "win\n",
    "\n",
    "win.timer.stop()\n",
    "win.timer.start()\n"
   ]
  },
  {
   "cell_type": "code",
   "execution_count": null,
   "id": "2d1fda68-56ca-4ede-bada-91041b01d679",
   "metadata": {},
   "outputs": [],
   "source": []
  }
 ],
 "metadata": {
  "kernelspec": {
   "display_name": "Python 3 (ipykernel)",
   "language": "python",
   "name": "python3"
  },
  "language_info": {
   "codemirror_mode": {
    "name": "ipython",
    "version": 3
   },
   "file_extension": ".py",
   "mimetype": "text/x-python",
   "name": "python",
   "nbconvert_exporter": "python",
   "pygments_lexer": "ipython3",
   "version": "3.10.9"
  }
 },
 "nbformat": 4,
 "nbformat_minor": 5
}
