{
 "cells": [
  {
   "cell_type": "code",
   "execution_count": null,
   "id": "cb4c399d-6223-4037-80b4-50f62ffc3b68",
   "metadata": {},
   "outputs": [],
   "source": [
    "import matplotlib.pyplot as plt\n",
    "plt.style.use('classic')\n",
    "%matplotlib inline\n",
    "import numpy as np\n",
    "import pandas as pd"
   ]
  },
  {
   "cell_type": "code",
   "execution_count": null,
   "id": "a8acbd93-e710-4179-87f9-08f3122222a8",
   "metadata": {},
   "outputs": [],
   "source": [
    "# Create some data\n",
    "rng = np.random.RandomState(0)\n",
    "x = np.linspace(0, 10, 500)\n",
    "y = np.cumsum(rng.randn(500, 6), 0)"
   ]
  },
  {
   "cell_type": "code",
   "execution_count": null,
   "id": "b941ce09-c895-4496-889f-732c93855558",
   "metadata": {},
   "outputs": [],
   "source": [
    "# Plot the data with Matplotlib defaults\n",
    "plt.plot(x, y)\n",
    "plt.legend('ABCDEF', ncol=2, loc='upper left');"
   ]
  },
  {
   "cell_type": "code",
   "execution_count": null,
   "id": "76a11e54-a7da-4736-9fe8-6ac991133dfc",
   "metadata": {},
   "outputs": [],
   "source": [
    "import seaborn as sns\n",
    "sns.set()"
   ]
  },
  {
   "cell_type": "code",
   "execution_count": null,
   "id": "50bb8c77-1943-43ff-a1d3-d614ad6d2f89",
   "metadata": {},
   "outputs": [],
   "source": [
    "# same plotting code as above!\n",
    "plt.plot(x, y)\n",
    "plt.legend('ABCDEF', ncol=2, loc='upper left');"
   ]
  },
  {
   "cell_type": "code",
   "execution_count": null,
   "id": "bb4801b5-8e18-4168-bee4-bec88e991e0c",
   "metadata": {},
   "outputs": [],
   "source": [
    "data = np.random.multivariate_normal([0, 0], [[5, 2], [2, 2]], size=2000)\n",
    "data = pd.DataFrame(data, columns=['x', 'y'])\n",
    "\n",
    "for col in 'xy':\n",
    "    plt.hist(data[col], density=True, alpha=0.5)"
   ]
  },
  {
   "cell_type": "code",
   "execution_count": null,
   "id": "ddd4dd7d-68a6-460a-8eec-c7fd4194ae12",
   "metadata": {},
   "outputs": [],
   "source": [
    "for col in 'xy':\n",
    "    sns.kdeplot(data[col], fill=True)"
   ]
  },
  {
   "cell_type": "code",
   "execution_count": null,
   "id": "4aafc211-4711-4ce6-b706-3c10459e73e9",
   "metadata": {},
   "outputs": [],
   "source": [
    "sns.histplot(data['x'])\n",
    "sns.histplot(data['y']);"
   ]
  },
  {
   "cell_type": "code",
   "execution_count": null,
   "id": "7c21ee41-0555-418d-abfa-b651e9f75b7f",
   "metadata": {},
   "outputs": [],
   "source": [
    "sns.kdeplot(data);"
   ]
  },
  {
   "cell_type": "code",
   "execution_count": null,
   "id": "9238bfeb-a9b8-4112-ac3e-cb184f52a3e4",
   "metadata": {},
   "outputs": [],
   "source": [
    "with sns.axes_style('white'):\n",
    "    sns.jointplot(data, x=\"x\", y=\"y\", kind='kde')"
   ]
  },
  {
   "cell_type": "code",
   "execution_count": null,
   "id": "d86ca138-a35c-4665-a645-d7ed8470ad43",
   "metadata": {},
   "outputs": [],
   "source": [
    "with sns.axes_style('white'):\n",
    "    sns.jointplot(data, x=\"x\", y=\"y\", kind='hex')"
   ]
  },
  {
   "cell_type": "code",
   "execution_count": null,
   "id": "4b9ddb25-e413-4f15-aab1-3d0a065a05a0",
   "metadata": {},
   "outputs": [],
   "source": [
    "iris = sns.load_dataset(\"iris\")\n",
    "iris.head()"
   ]
  },
  {
   "cell_type": "code",
   "execution_count": null,
   "id": "75d418eb-3878-48ab-beea-ef668eca9d6a",
   "metadata": {},
   "outputs": [],
   "source": [
    "sns.pairplot(iris, hue='species', height=2.5);"
   ]
  },
  {
   "cell_type": "code",
   "execution_count": null,
   "id": "2a2e4af9-a34e-467e-847f-7e0d0f481730",
   "metadata": {},
   "outputs": [],
   "source": [
    "tips = sns.load_dataset('tips')\n",
    "tips.head()"
   ]
  },
  {
   "cell_type": "code",
   "execution_count": null,
   "id": "9f70fdda-542b-4c5c-9ecb-98e5d8e52cf4",
   "metadata": {},
   "outputs": [],
   "source": [
    "tips['tip_pct'] = 100 * tips['tip'] / tips['total_bill']\n",
    "\n",
    "grid = sns.FacetGrid(tips, row=\"sex\", col=\"time\", margin_titles=True)\n",
    "grid.map(plt.hist, \"tip_pct\", bins=np.linspace(0, 40, 15));"
   ]
  },
  {
   "cell_type": "code",
   "execution_count": null,
   "id": "6b62f82b-61ab-4155-b4cc-be2917e15753",
   "metadata": {},
   "outputs": [],
   "source": [
    "with sns.axes_style(style='ticks'):\n",
    "    g = sns.catplot(data=tips, x=\"day\", y=\"total_bill\", hue=\"sex\", kind=\"box\")\n",
    "    g.set_axis_labels(\"Day\", \"Total Bill\");"
   ]
  },
  {
   "cell_type": "code",
   "execution_count": null,
   "id": "92305429-7e04-49b7-ba8f-bf839d7d1c8b",
   "metadata": {},
   "outputs": [],
   "source": [
    "with sns.axes_style('white'):\n",
    "    sns.jointplot(tips, x=\"total_bill\", y=\"tip\", kind='hex')"
   ]
  },
  {
   "cell_type": "code",
   "execution_count": null,
   "id": "b632664a-05f9-476e-9c1c-a1fb8a6418d3",
   "metadata": {},
   "outputs": [],
   "source": [
    "sns.jointplot(tips, x=\"total_bill\", y=\"tip\", kind='reg');"
   ]
  },
  {
   "cell_type": "code",
   "execution_count": null,
   "id": "841ee8ca-ee8a-462a-84fa-cb60cccbab3b",
   "metadata": {},
   "outputs": [],
   "source": [
    "planets = sns.load_dataset('planets')\n",
    "planets.head()"
   ]
  },
  {
   "cell_type": "code",
   "execution_count": null,
   "id": "20ae9676-6aaa-4851-999f-6095088e47d0",
   "metadata": {},
   "outputs": [],
   "source": [
    "with sns.axes_style('white'):\n",
    "    g = sns.catplot(data=planets, x=\"year\", aspect=2,\n",
    "                       kind=\"count\", color='steelblue')\n",
    "    g.set_xticklabels(step=5)"
   ]
  },
  {
   "cell_type": "code",
   "execution_count": null,
   "id": "0579a58f-169b-472d-a52a-33db5a6105b2",
   "metadata": {},
   "outputs": [],
   "source": [
    "# !curl -O https://raw.githubusercontent.com/jakevdp/marathon-data/master/marathon-data.csv"
   ]
  },
  {
   "cell_type": "code",
   "execution_count": null,
   "id": "14217661-4580-4dde-940d-34bc3e125f82",
   "metadata": {},
   "outputs": [],
   "source": [
    "data = pd.read_csv('marathon-data.csv')\n",
    "data.head()"
   ]
  },
  {
   "cell_type": "code",
   "execution_count": null,
   "id": "26734e32-1569-415a-86e9-97a232ef2aac",
   "metadata": {},
   "outputs": [],
   "source": []
  }
 ],
 "metadata": {
  "kernelspec": {
   "display_name": "Python 3 (ipykernel)",
   "language": "python",
   "name": "python3"
  },
  "language_info": {
   "codemirror_mode": {
    "name": "ipython",
    "version": 3
   },
   "file_extension": ".py",
   "mimetype": "text/x-python",
   "name": "python",
   "nbconvert_exporter": "python",
   "pygments_lexer": "ipython3",
   "version": "3.10.8"
  }
 },
 "nbformat": 4,
 "nbformat_minor": 5
}
